{
 "cells": [
  {
   "cell_type": "code",
   "execution_count": 2,
   "id": "6191b7de-3344-4590-b35a-a8e5c43f6dbb",
   "metadata": {},
   "outputs": [
    {
     "name": "stdin",
     "output_type": "stream",
     "text": [
      "enter number:: 24\n"
     ]
    },
    {
     "name": "stdout",
     "output_type": "stream",
     "text": [
      "24 x 1 = 24\n",
      "24 x 2 = 48\n",
      "24 x 3 = 72\n",
      "24 x 4 = 96\n",
      "24 x 5 = 120\n",
      "24 x 6 = 144\n",
      "24 x 7 = 168\n",
      "24 x 8 = 192\n",
      "24 x 9 = 216\n",
      "24 x 10 = 240\n"
     ]
    }
   ],
   "source": [
    "no=int(input(\"enter number::\"))\n",
    "for i in range(1,11):\n",
    "    print(no,\"x\",i,\"=\",no*i)"
   ]
  },
  {
   "cell_type": "code",
   "execution_count": 6,
   "id": "66328e53-d66f-4afa-b0ce-0d228c8bc3ad",
   "metadata": {},
   "outputs": [
    {
     "name": "stdout",
     "output_type": "stream",
     "text": [
      "1\t 2\t 3\t 4\t 5\t 6\t 7\t 8\t 9\t 10\t \n",
      "2\t 4\t 6\t 8\t 10\t 12\t 14\t 16\t 18\t 20\t \n",
      "3\t 6\t 9\t 12\t 15\t 18\t 21\t 24\t 27\t 30\t \n",
      "4\t 8\t 12\t 16\t 20\t 24\t 28\t 32\t 36\t 40\t \n",
      "5\t 10\t 15\t 20\t 25\t 30\t 35\t 40\t 45\t 50\t \n",
      "6\t 12\t 18\t 24\t 30\t 36\t 42\t 48\t 54\t 60\t \n",
      "7\t 14\t 21\t 28\t 35\t 42\t 49\t 56\t 63\t 70\t \n",
      "8\t 16\t 24\t 32\t 40\t 48\t 56\t 64\t 72\t 80\t \n",
      "9\t 18\t 27\t 36\t 45\t 54\t 63\t 72\t 81\t 90\t \n",
      "10\t 20\t 30\t 40\t 50\t 60\t 70\t 80\t 90\t 100\t \n"
     ]
    }
   ],
   "source": [
    "for i in range(1,11):\n",
    "    for j in range(1,11):\n",
    "        print(i*j,end=\"\\t \")\n",
    "    print()    "
   ]
  },
  {
   "cell_type": "code",
   "execution_count": 13,
   "id": "1718e22a-fba9-411e-8f2b-c0ad146d71da",
   "metadata": {},
   "outputs": [
    {
     "name": "stdout",
     "output_type": "stream",
     "text": [
      "p p\n",
      "p r\n",
      "p o\n",
      "p g\n",
      "p r\n",
      "p a\n",
      "p m\n",
      "p m\n",
      "p e\n",
      "p r\n",
      "p s\n",
      "\n",
      "y p\n",
      "y r\n",
      "y o\n",
      "y g\n",
      "y r\n",
      "y a\n",
      "y m\n",
      "y m\n",
      "y e\n",
      "y r\n",
      "y s\n",
      "\n",
      "t p\n",
      "t r\n",
      "t o\n",
      "t g\n",
      "t r\n",
      "t a\n",
      "t m\n",
      "t m\n",
      "t e\n",
      "t r\n",
      "t s\n",
      "\n",
      "h p\n",
      "h r\n",
      "h o\n",
      "h g\n",
      "h r\n",
      "h a\n",
      "h m\n",
      "h m\n",
      "h e\n",
      "h r\n",
      "h s\n",
      "\n",
      "o p\n",
      "o r\n",
      "o o\n",
      "o g\n",
      "o r\n",
      "o a\n",
      "o m\n",
      "o m\n",
      "o e\n",
      "o r\n",
      "o s\n",
      "\n",
      "n p\n",
      "n r\n",
      "n o\n",
      "n g\n",
      "n r\n",
      "n a\n",
      "n m\n",
      "n m\n",
      "n e\n",
      "n r\n",
      "n s\n",
      "\n"
     ]
    }
   ],
   "source": [
    "x=\"python\"\n",
    "y=\"programmers\"\n",
    "for i in x:\n",
    "    for j in y:\n",
    "        print(i,j,end=\"\\n\")\n",
    "    print()    \n"
   ]
  },
  {
   "cell_type": "code",
   "execution_count": 14,
   "id": "19847586-3204-4272-9e26-43e6dd91474d",
   "metadata": {},
   "outputs": [
    {
     "name": "stdout",
     "output_type": "stream",
     "text": [
      "x \n",
      "x x \n",
      "x x x \n",
      "x x x x \n",
      "x x x x x \n"
     ]
    }
   ],
   "source": [
    "for i in range(1,6):\n",
    "    for j in range(1,i+1):\n",
    "        print(\"x\",end=\" \")\n",
    "    print()    "
   ]
  },
  {
   "cell_type": "code",
   "execution_count": 20,
   "id": "b6f88859",
   "metadata": {},
   "outputs": [
    {
     "name": "stdin",
     "output_type": "stream",
     "text": [
      "enter number: 9\n"
     ]
    },
    {
     "name": "stdout",
     "output_type": "stream",
     "text": [
      "x \n",
      "x x \n",
      "x x x \n",
      "x x x x \n",
      "x x x x x \n",
      "x x x x x x \n",
      "x x x x x x x \n",
      "x x x x x x x x \n",
      "x x x x x x x x x \n"
     ]
    }
   ],
   "source": [
    "rows=int(input(\"enter number:\"))\n",
    "for i in range(1,rows+1):\n",
    "    for j in range(1,i+1):\n",
    "        print(\"x\",end=\" \")\n",
    "    print()    "
   ]
  },
  {
   "cell_type": "code",
   "execution_count": 21,
   "id": "1b2a46b0",
   "metadata": {},
   "outputs": [
    {
     "name": "stdout",
     "output_type": "stream",
     "text": [
      "x \n",
      "x x \n",
      "x x x \n",
      "x x x x \n",
      "x x x x x \n",
      "x x x x x x \n",
      "x x x x x x x \n",
      "x x x x x x x x \n",
      "x x x x x x x x x \n",
      "x x x x x x x x x x \n",
      "x x x x x x x x x x x \n",
      "x x x x x x x x x x x x \n",
      "x x x x x x x x x x x x x \n",
      "x x x x x x x x x x x x x x \n",
      "x x x x x x x x x x x x x x x \n",
      "x x x x x x x x x x x x x x x x \n",
      "x x x x x x x x x x x x x x x x x \n",
      "x x x x x x x x x x x x x x x x x x \n"
     ]
    }
   ],
   "source": [
    "import random\n",
    "rows=random.randint(1,20)\n",
    "for i in range(1,rows+1):\n",
    "    for j in range(1,i+1):\n",
    "        print(\"x\",end=\" \")\n",
    "    print()    "
   ]
  },
  {
   "cell_type": "code",
   "execution_count": 17,
   "id": "cf55d8c7-2526-42b1-873a-3e4742933b42",
   "metadata": {},
   "outputs": [
    {
     "name": "stdout",
     "output_type": "stream",
     "text": [
      "x \n",
      "x x \n",
      "x x x \n",
      "x x x x \n",
      "x x x x x \n"
     ]
    }
   ],
   "source": [
    "i=1\n",
    "while i<=5:\n",
    "    j=1\n",
    "    while j<=i:\n",
    "        print(\"x\",end=\" \")\n",
    "        j+=1\n",
    "    i+=1\n",
    "    print()"
   ]
  },
  {
   "cell_type": "code",
   "execution_count": 22,
   "id": "c2d4e472-a237-412f-8d39-5ac4b805af92",
   "metadata": {},
   "outputs": [
    {
     "name": "stdin",
     "output_type": "stream",
     "text": [
      "tell me something cool:\n",
      "Enter quit to enter: python is cool\n"
     ]
    },
    {
     "name": "stdout",
     "output_type": "stream",
     "text": [
      "python is cool\n"
     ]
    },
    {
     "name": "stdin",
     "output_type": "stream",
     "text": [
      "tell me something cool:\n",
      "Enter quit to enter: quit\n"
     ]
    }
   ],
   "source": [
    "prompt=(\"tell me something cool:\")\n",
    "prompt+=(\"\\nEnter quit to enter:\")\n",
    "active=True\n",
    "while active:\n",
    "    message=input(prompt)\n",
    "    if message==\"quit\":\n",
    "        active=False\n",
    "    else:\n",
    "        print(message)"
   ]
  },
  {
   "cell_type": "code",
   "execution_count": 24,
   "id": "a7c2ba8c-4443-40c9-9371-673950d290f0",
   "metadata": {},
   "outputs": [
    {
     "name": "stdin",
     "output_type": "stream",
     "text": [
      "enter number for cube: 5\n"
     ]
    },
    {
     "name": "stdout",
     "output_type": "stream",
     "text": [
      "125\n"
     ]
    }
   ],
   "source": [
    "def cube():\n",
    "    no=int(input(\"enter number for cube:\"))\n",
    "    x=no**3\n",
    "    print(x)\n",
    "cube()    \n",
    "    "
   ]
  },
  {
   "cell_type": "code",
   "execution_count": 25,
   "id": "47ee9860-6d32-4b5b-b7ed-a43e5f2c348c",
   "metadata": {},
   "outputs": [
    {
     "name": "stdout",
     "output_type": "stream",
     "text": [
      "sum of x and y are: 14\n"
     ]
    }
   ],
   "source": [
    "def sum(x,y):\n",
    "    z=x+y\n",
    "    print(\"sum of x and y are:\",z)\n",
    "sum(5,9)    "
   ]
  },
  {
   "cell_type": "code",
   "execution_count": 26,
   "id": "1eae917d",
   "metadata": {},
   "outputs": [
    {
     "name": "stdout",
     "output_type": "stream",
     "text": [
      "sum of x and y are: 45\n"
     ]
    }
   ],
   "source": [
    "def product(x,y):\n",
    "    z=x*y\n",
    "    print(\"sum of x and y are:\",z)\n",
    "product(5,9)    "
   ]
  },
  {
   "cell_type": "code",
   "execution_count": 3,
   "id": "6eff1287-f0ad-4a32-8893-63ab6e213cfb",
   "metadata": {},
   "outputs": [
    {
     "name": "stdin",
     "output_type": "stream",
     "text": [
      "enter first name: abiha\n",
      "enter second name: omer\n",
      "enter age: 18\n"
     ]
    },
    {
     "name": "stdout",
     "output_type": "stream",
     "text": [
      "first name:abiha\n",
      "last name:omer\n",
      "age:18\n"
     ]
    }
   ],
   "source": [
    "def myfunc():\n",
    "    print(\"first name:\"+fname)\n",
    "    print(\"last name:\"+lname)\n",
    "    print(\"age:\"+age)\n",
    "fname=input(\"enter first name:\")\n",
    "lname=input(\"enter second name:\")\n",
    "age=input(\"enter age:\")\n",
    "myfunc()    \n"
   ]
  },
  {
   "cell_type": "code",
   "execution_count": 5,
   "id": "5733a498-1fc5-44e6-a7b8-a6018573073e",
   "metadata": {},
   "outputs": [
    {
     "name": "stdin",
     "output_type": "stream",
     "text": [
      "enter length: 6\n",
      "enter width: 9\n"
     ]
    },
    {
     "name": "stdout",
     "output_type": "stream",
     "text": [
      "length is: 6\n",
      "width is: 9\n",
      "area is: 54\n",
      "parameter is: 30\n"
     ]
    }
   ],
   "source": [
    "def Area():\n",
    "    area=a*b\n",
    "    print(\"area is:\",area)\n",
    "    return\n",
    "def Parameter():\n",
    "    parameter=2*a+2*b\n",
    "    print(\"parameter is:\",parameter)\n",
    "    return\n",
    "a=int(input(\"enter length:\"))\n",
    "b=int(input(\"enter width:\"))\n",
    "print(\"length is:\",a)\n",
    "print(\"width is:\",b)\n",
    "Area()\n",
    "Parameter()\n"
   ]
  },
  {
   "cell_type": "code",
   "execution_count": 22,
   "id": "5c7eb708-dc9d-4d47-b036-feb930856a83",
   "metadata": {},
   "outputs": [
    {
     "name": "stdout",
     "output_type": "stream",
     "text": [
      "-----CALCULATOR------\n"
     ]
    },
    {
     "name": "stdin",
     "output_type": "stream",
     "text": [
      "enter number1: 3\n",
      "enter number2: 7\n"
     ]
    },
    {
     "name": "stdout",
     "output_type": "stream",
     "text": [
      "---ADDITION---\n",
      "sum of both numbers= 10\n",
      "---SUBTRACTION---\n",
      "the subtraction bw both numbers= -4\n",
      "---MULTIPLICATION---\n",
      "the product of both numbers is= 21\n",
      "---DIVISION---\n",
      "division of both numbers= 0.42857142857142855\n"
     ]
    }
   ],
   "source": [
    "print(\"-----CALCULATOR------\")\n",
    "def add():\n",
    "    sum=num1+num2\n",
    "    print(\"---ADDITION---\")\n",
    "    print(\"sum of both numbers=\",sum)\n",
    "    return       \n",
    "def sub():\n",
    "    sub=num1-num2\n",
    "    print(\"---SUBTRACTION---\")\n",
    "    print(\"the subtraction bw both numbers=\",sub)\n",
    "    return    \n",
    "def product():\n",
    "    product=num1*num2\n",
    "    print(\"---MULTIPLICATION---\")\n",
    "    print(\"the product of both numbers is=\",product)\n",
    "    return    \n",
    "def divide():\n",
    "    divide=num1/num2\n",
    "    print(\"---DIVISION---\")\n",
    "    print(\"division of both numbers=\",divide)\n",
    "num1=int(input(\"enter number1:\"))\n",
    "num2=int(input(\"enter number2:\"))\n",
    "add()\n",
    "sub()\n",
    "product()\n",
    "divide()\n",
    "         "
   ]
  },
  {
   "cell_type": "code",
   "execution_count": 26,
   "id": "b076a038-4521-40ef-a452-3c212fe6a31e",
   "metadata": {},
   "outputs": [
    {
     "name": "stdin",
     "output_type": "stream",
     "text": [
      "enter full name: ALI\n",
      "enter mi9ddle name: AHMED\n",
      "enter last name: KHAN\n"
     ]
    },
    {
     "name": "stdout",
     "output_type": "stream",
     "text": [
      "ALI AHMED KHAN\n"
     ]
    }
   ],
   "source": [
    "def fullname(f_name,m_name,l_name):\n",
    "    fullname=\"{} {} {}\".format(f_name,m_name,l_name)\n",
    "    print(fullname)\n",
    "f_name=input(\"enter full name:\")\n",
    "m_name=input(\"enter mi9ddle name:\")\n",
    "l_name=input(\"enter last name:\")\n",
    "fullname(f_name,m_name,l_name)\n"
   ]
  },
  {
   "cell_type": "code",
   "execution_count": 34,
   "id": "52a18ce6-1e10-481b-83d5-aab5e7ffe521",
   "metadata": {},
   "outputs": [
    {
     "ename": "NameError",
     "evalue": "name 'name' is not defined",
     "output_type": "error",
     "traceback": [
      "\u001b[1;31m---------------------------------------------------------------------------\u001b[0m",
      "\u001b[1;31mNameError\u001b[0m                                 Traceback (most recent call last)",
      "Cell \u001b[1;32mIn[34], line 1\u001b[0m\n\u001b[1;32m----> 1\u001b[0m person_detail\u001b[38;5;241m=\u001b[39m{\u001b[43mname\u001b[49m:\u001b[38;5;124m\"\u001b[39m\u001b[38;5;124mali\u001b[39m\u001b[38;5;124m\"\u001b[39m,\n\u001b[0;32m      2\u001b[0m                age:\u001b[38;5;241m12\u001b[39m ,\n\u001b[0;32m      3\u001b[0m                language:\u001b[38;5;124m\"\u001b[39m\u001b[38;5;124murdu\u001b[39m\u001b[38;5;124m\"\u001b[39m ,\n\u001b[0;32m      4\u001b[0m               }\n\u001b[0;32m      5\u001b[0m \u001b[38;5;28;01mfor\u001b[39;00m key,val \u001b[38;5;129;01min\u001b[39;00m person_detail:\n\u001b[0;32m      6\u001b[0m     \u001b[38;5;28mprint\u001b[39m(values)\n",
      "\u001b[1;31mNameError\u001b[0m: name 'name' is not defined"
     ]
    }
   ],
   "source": [
    "person_detail={name:\"ali\",\n",
    "               age:12 ,\n",
    "               language:\"urdu\" ,\n",
    "              }\n",
    "for key,val in person_detail:\n",
    "    print(values)"
   ]
  },
  {
   "cell_type": "code",
   "execution_count": 1,
   "id": "63348497-a244-4b88-a745-8426f5e8d7e4",
   "metadata": {},
   "outputs": [
    {
     "name": "stdout",
     "output_type": "stream",
     "text": [
      "3\n"
     ]
    }
   ],
   "source": [
    "c=1\n",
    "def add():\n",
    "    d=c+2\n",
    "    print(d)\n",
    "add()    "
   ]
  },
  {
   "cell_type": "code",
   "execution_count": 2,
   "id": "218fe84d-f95e-445b-b3ec-410481561514",
   "metadata": {},
   "outputs": [
    {
     "name": "stdout",
     "output_type": "stream",
     "text": [
      "3\n"
     ]
    }
   ],
   "source": [
    "c=1\n",
    "def add():\n",
    "    global c\n",
    "    c=c+2\n",
    "    print(c)\n",
    "add()    "
   ]
  },
  {
   "cell_type": "code",
   "execution_count": 5,
   "id": "b60c640a-8a40-43ce-a1db-2608816bce07",
   "metadata": {},
   "outputs": [
    {
     "name": "stdout",
     "output_type": "stream",
     "text": [
      "before global function: 3\n",
      "inside function: 6\n",
      "outside function: 6\n"
     ]
    }
   ],
   "source": [
    "c=3\n",
    "print(\"before global function:\",c)\n",
    "def gvar():\n",
    "    global c\n",
    "    c*=2\n",
    "    print(\"inside function:\",c)\n",
    "gvar()\n",
    "print(\"outside function:\",c)\n",
    "    "
   ]
  },
  {
   "cell_type": "code",
   "execution_count": null,
   "id": "8f10f781-18e8-4c43-ad77-d6afb3720883",
   "metadata": {},
   "outputs": [],
   "source": [
    "def fun1(name):\n",
    "    def func2():\n",
    "        print(\"hello\"+name)\n",
    "    return func2\n",
    "name=tesla\n",
    "func1()\n",
    "    "
   ]
  },
  {
   "cell_type": "code",
   "execution_count": 4,
   "id": "3b853528-73c6-45bb-ad74-eb934aa2c701",
   "metadata": {},
   "outputs": [
    {
     "name": "stdout",
     "output_type": "stream",
     "text": [
      "['me too']\n",
      "['me too']\n"
     ]
    }
   ],
   "source": [
    "def f1():\n",
    "    s=[\"i love geeks\"]\n",
    "    def f2():\n",
    "        s[0]=\"me too\"\n",
    "        print(s)\n",
    "    f2()\n",
    "    print(s)\n",
    "f1()    \n"
   ]
  },
  {
   "cell_type": "code",
   "execution_count": 11,
   "id": "17d1b1b5-e1a6-4ba1-b35e-16b20a1918b8",
   "metadata": {},
   "outputs": [
    {
     "name": "stdout",
     "output_type": "stream",
     "text": [
      "5\n",
      "2\n",
      "9\n"
     ]
    }
   ],
   "source": [
    "lst=[2,6,4,7,9,]\n",
    "print(len(lst))\n",
    "print(min(lst))\n",
    "print(max(lst))"
   ]
  },
  {
   "cell_type": "code",
   "execution_count": 1,
   "id": "33e6ee67-d761-431d-9ae6-7c616b93ba2f",
   "metadata": {},
   "outputs": [
    {
     "name": "stdout",
     "output_type": "stream",
     "text": [
      "['p', 'y', 't', 'h', 'o', 'n']\n",
      "['n', 'o', 'h', 't', 'y', 'p']\n"
     ]
    }
   ],
   "source": [
    "abc=\"python\"\n",
    "reverse =reversed(abc)\n",
    "\n",
    "print(list(abc))\n",
    "\n",
    "print(list(reverse))"
   ]
  },
  {
   "cell_type": "code",
   "execution_count": 4,
   "id": "fb3795f6-959d-45f9-949d-9fa8305c1b37",
   "metadata": {},
   "outputs": [
    {
     "data": {
      "text/plain": [
       "20"
      ]
     },
     "execution_count": 4,
     "metadata": {},
     "output_type": "execute_result"
    }
   ],
   "source": [
    "def decorat(num):\n",
    "    def inner():\n",
    "        a=num()\n",
    "        add=a+a\n",
    "        return add \n",
    "    return inner\n",
    "@decorat\n",
    "def num():\n",
    "    return 10\n",
    "num()    "
   ]
  },
  {
   "cell_type": "code",
   "execution_count": 5,
   "id": "90a5d880-c243-4da1-b3ed-a958c2309b6d",
   "metadata": {},
   "outputs": [
    {
     "name": "stdout",
     "output_type": "stream",
     "text": [
      "hello this is before function execution\n",
      "this is inside function\n",
      "this is after function execution\n"
     ]
    }
   ],
   "source": [
    "def hello_decorator(func):\n",
    "    def inner1():\n",
    "        print(\"hello this is before function execution\")\n",
    "        func()\n",
    "        print(\"this is after function execution\")\n",
    "    return inner1\n",
    "def function_to_be_used():\n",
    "    print(\"this is inside function\")\n",
    "\n",
    "function_to_be_used=hello_decorator(function_to_be_used)\n",
    "function_to_be_used()"
   ]
  },
  {
   "cell_type": "code",
   "execution_count": 7,
   "id": "ee2a0880-732a-46b9-ab1f-7addbffe0bd2",
   "metadata": {},
   "outputs": [
    {
     "name": "stdout",
     "output_type": "stream",
     "text": [
      "func parameter: <function divide at 0x00000164F7CD9EE0>\n",
      "inner 4 \n",
      " Inner 2\n",
      "i am going to divide 4 and 2\n",
      "2.0\n"
     ]
    }
   ],
   "source": [
    "def smart_divide(func):\n",
    "    print(\"func parameter:\",func)\n",
    "    def inner(a,b):\n",
    "        print(\"inner\",a,\"\\n Inner\",b)\n",
    "        print(\"i am going to divide\",a,\"and\",b)\n",
    "        if b==0:\n",
    "            print(\"whoops cant devide\")\n",
    "            return\n",
    "        return func(a,b)\n",
    "    return inner\n",
    "@smart_divide\n",
    "def divide(a,b):\n",
    "    print(a/b)\n",
    "divide(4,2)    "
   ]
  },
  {
   "cell_type": "code",
   "execution_count": null,
   "id": "9ad4f885-40d8-457b-b2c0-60a0f7ec9cae",
   "metadata": {},
   "outputs": [],
   "source": []
  }
 ],
 "metadata": {
  "kernelspec": {
   "display_name": "Python 3 (ipykernel)",
   "language": "python",
   "name": "python3"
  },
  "language_info": {
   "codemirror_mode": {
    "name": "ipython",
    "version": 3
   },
   "file_extension": ".py",
   "mimetype": "text/x-python",
   "name": "python",
   "nbconvert_exporter": "python",
   "pygments_lexer": "ipython3",
   "version": "3.12.2"
  }
 },
 "nbformat": 4,
 "nbformat_minor": 5
}
