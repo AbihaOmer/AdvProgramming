{
 "cells": [
  {
   "cell_type": "code",
   "execution_count": 1,
   "id": "1f47c03d-e1ed-4e7b-9183-d47c07bcddd1",
   "metadata": {},
   "outputs": [
    {
     "name": "stdout",
     "output_type": "stream",
     "text": [
      "Requirement already satisfied: pandas in c:\\users\\lab.4\\appdata\\local\\programs\\python\\python312\\lib\\site-packages (2.2.1)\n",
      "Requirement already satisfied: numpy<2,>=1.26.0 in c:\\users\\lab.4\\appdata\\local\\programs\\python\\python312\\lib\\site-packages (from pandas) (1.26.4)\n",
      "Requirement already satisfied: python-dateutil>=2.8.2 in c:\\users\\lab.4\\appdata\\local\\programs\\python\\python312\\lib\\site-packages (from pandas) (2.9.0.post0)\n",
      "Requirement already satisfied: pytz>=2020.1 in c:\\users\\lab.4\\appdata\\local\\programs\\python\\python312\\lib\\site-packages (from pandas) (2024.1)\n",
      "Requirement already satisfied: tzdata>=2022.7 in c:\\users\\lab.4\\appdata\\local\\programs\\python\\python312\\lib\\site-packages (from pandas) (2024.1)\n",
      "Requirement already satisfied: six>=1.5 in c:\\users\\lab.4\\appdata\\local\\programs\\python\\python312\\lib\\site-packages (from python-dateutil>=2.8.2->pandas) (1.16.0)\n"
     ]
    }
   ],
   "source": [
    "!pip install pandas"
   ]
  },
  {
   "cell_type": "code",
   "execution_count": 5,
   "id": "5bd53af8-91de-4511-ae73-d2eea5b7594e",
   "metadata": {},
   "outputs": [
    {
     "name": "stdout",
     "output_type": "stream",
     "text": [
      "2.2.1\n"
     ]
    }
   ],
   "source": [
    "import pandas as pd\n",
    "print(pd.__version__)"
   ]
  },
  {
   "cell_type": "code",
   "execution_count": 7,
   "id": "24328f8e-9072-4de1-9b6b-1d9121ff2d00",
   "metadata": {},
   "outputs": [
    {
     "data": {
      "text/html": [
       "<div>\n",
       "<style scoped>\n",
       "    .dataframe tbody tr th:only-of-type {\n",
       "        vertical-align: middle;\n",
       "    }\n",
       "\n",
       "    .dataframe tbody tr th {\n",
       "        vertical-align: top;\n",
       "    }\n",
       "\n",
       "    .dataframe thead th {\n",
       "        text-align: right;\n",
       "    }\n",
       "</style>\n",
       "<table border=\"1\" class=\"dataframe\">\n",
       "  <thead>\n",
       "    <tr style=\"text-align: right;\">\n",
       "      <th></th>\n",
       "      <th>cars</th>\n",
       "      <th>passings</th>\n",
       "      <th>colour</th>\n",
       "    </tr>\n",
       "  </thead>\n",
       "  <tbody>\n",
       "    <tr>\n",
       "      <th>0</th>\n",
       "      <td>bmw</td>\n",
       "      <td>3</td>\n",
       "      <td>yellow</td>\n",
       "    </tr>\n",
       "    <tr>\n",
       "      <th>1</th>\n",
       "      <td>volvo</td>\n",
       "      <td>7</td>\n",
       "      <td>red</td>\n",
       "    </tr>\n",
       "    <tr>\n",
       "      <th>2</th>\n",
       "      <td>ford</td>\n",
       "      <td>2</td>\n",
       "      <td>blue</td>\n",
       "    </tr>\n",
       "  </tbody>\n",
       "</table>\n",
       "</div>"
      ],
      "text/plain": [
       "    cars  passings  colour\n",
       "0    bmw         3  yellow\n",
       "1  volvo         7     red\n",
       "2   ford         2    blue"
      ]
     },
     "execution_count": 7,
     "metadata": {},
     "output_type": "execute_result"
    }
   ],
   "source": [
    "mydataset={\n",
    "    \"cars\":[\"bmw\",\"volvo\",\"ford\"],\n",
    "    \"passings\":[3,7,2],\n",
    "    \"colour\":[\"yellow\",\"red\",\"blue\"],\n",
    "   \n",
    "}\n",
    "\n",
    "pd.DataFrame(mydataset)\n"
   ]
  },
  {
   "cell_type": "code",
   "execution_count": 8,
   "id": "d31d2b87-42c9-4d19-87f4-fc7edfd2dc63",
   "metadata": {},
   "outputs": [
    {
     "name": "stdout",
     "output_type": "stream",
     "text": [
      "    cars  passings  colour\n",
      "0    bmw         3  yellow\n",
      "1  volvo         7     red\n",
      "2   ford         2    blue\n"
     ]
    }
   ],
   "source": [
    "mydataset={\n",
    "    \"cars\":[\"bmw\",\"volvo\",\"ford\"],\n",
    "    \"passings\":[3,7,2],\n",
    "    \"colour\":[\"yellow\",\"red\",\"blue\"],\n",
    "   \n",
    "}\n",
    "\n",
    "myvar=pd.DataFrame(mydataset)\n",
    "print(myvar)\n"
   ]
  },
  {
   "cell_type": "code",
   "execution_count": 16,
   "id": "114c2c99-44f3-4335-8e7a-36dd1a79abc7",
   "metadata": {},
   "outputs": [
    {
     "data": {
      "text/html": [
       "<div>\n",
       "<style scoped>\n",
       "    .dataframe tbody tr th:only-of-type {\n",
       "        vertical-align: middle;\n",
       "    }\n",
       "\n",
       "    .dataframe tbody tr th {\n",
       "        vertical-align: top;\n",
       "    }\n",
       "\n",
       "    .dataframe thead th {\n",
       "        text-align: right;\n",
       "    }\n",
       "</style>\n",
       "<table border=\"1\" class=\"dataframe\">\n",
       "  <thead>\n",
       "    <tr style=\"text-align: right;\">\n",
       "      <th></th>\n",
       "      <th>cars</th>\n",
       "      <th>passings</th>\n",
       "      <th>colour</th>\n",
       "    </tr>\n",
       "  </thead>\n",
       "  <tbody>\n",
       "    <tr>\n",
       "      <th>0</th>\n",
       "      <td>bmw</td>\n",
       "      <td>3</td>\n",
       "      <td>yellow</td>\n",
       "    </tr>\n",
       "    <tr>\n",
       "      <th>1</th>\n",
       "      <td>volvo</td>\n",
       "      <td>7</td>\n",
       "      <td>red</td>\n",
       "    </tr>\n",
       "    <tr>\n",
       "      <th>2</th>\n",
       "      <td>ford</td>\n",
       "      <td>2</td>\n",
       "      <td>blue</td>\n",
       "    </tr>\n",
       "    <tr>\n",
       "      <th>3</th>\n",
       "      <td>corolla</td>\n",
       "      <td>8</td>\n",
       "      <td>white</td>\n",
       "    </tr>\n",
       "    <tr>\n",
       "      <th>4</th>\n",
       "      <td>civic</td>\n",
       "      <td>4</td>\n",
       "      <td>black</td>\n",
       "    </tr>\n",
       "  </tbody>\n",
       "</table>\n",
       "</div>"
      ],
      "text/plain": [
       "      cars  passings  colour\n",
       "0      bmw         3  yellow\n",
       "1    volvo         7     red\n",
       "2     ford         2    blue\n",
       "3  corolla         8   white\n",
       "4    civic         4   black"
      ]
     },
     "execution_count": 16,
     "metadata": {},
     "output_type": "execute_result"
    }
   ],
   "source": [
    "mydataset={\n",
    "    \"cars\":[\"bmw\",\"volvo\",\"ford\",\"corolla\",\"civic\",\"kia\"],\n",
    "    \"passings\":[3,7,2,8,4,9],\n",
    "    \"colour\":[\"yellow\",\"red\",\"blue\",\"white\",\"black\",\"purple\"],\n",
    "   \n",
    "}\n",
    "\n",
    "myvar=pd.DataFrame(mydataset)\n",
    "myvar.head()\n"
   ]
  },
  {
   "cell_type": "code",
   "execution_count": 17,
   "id": "0dd40dc9-70d5-4a31-a7d7-ff9aec634432",
   "metadata": {},
   "outputs": [
    {
     "data": {
      "text/html": [
       "<div>\n",
       "<style scoped>\n",
       "    .dataframe tbody tr th:only-of-type {\n",
       "        vertical-align: middle;\n",
       "    }\n",
       "\n",
       "    .dataframe tbody tr th {\n",
       "        vertical-align: top;\n",
       "    }\n",
       "\n",
       "    .dataframe thead th {\n",
       "        text-align: right;\n",
       "    }\n",
       "</style>\n",
       "<table border=\"1\" class=\"dataframe\">\n",
       "  <thead>\n",
       "    <tr style=\"text-align: right;\">\n",
       "      <th></th>\n",
       "      <th>cars</th>\n",
       "      <th>passings</th>\n",
       "      <th>colour</th>\n",
       "    </tr>\n",
       "  </thead>\n",
       "  <tbody>\n",
       "    <tr>\n",
       "      <th>1</th>\n",
       "      <td>volvo</td>\n",
       "      <td>7</td>\n",
       "      <td>red</td>\n",
       "    </tr>\n",
       "    <tr>\n",
       "      <th>2</th>\n",
       "      <td>ford</td>\n",
       "      <td>2</td>\n",
       "      <td>blue</td>\n",
       "    </tr>\n",
       "    <tr>\n",
       "      <th>3</th>\n",
       "      <td>corolla</td>\n",
       "      <td>8</td>\n",
       "      <td>white</td>\n",
       "    </tr>\n",
       "    <tr>\n",
       "      <th>4</th>\n",
       "      <td>civic</td>\n",
       "      <td>4</td>\n",
       "      <td>black</td>\n",
       "    </tr>\n",
       "    <tr>\n",
       "      <th>5</th>\n",
       "      <td>kia</td>\n",
       "      <td>9</td>\n",
       "      <td>purple</td>\n",
       "    </tr>\n",
       "  </tbody>\n",
       "</table>\n",
       "</div>"
      ],
      "text/plain": [
       "      cars  passings  colour\n",
       "1    volvo         7     red\n",
       "2     ford         2    blue\n",
       "3  corolla         8   white\n",
       "4    civic         4   black\n",
       "5      kia         9  purple"
      ]
     },
     "execution_count": 17,
     "metadata": {},
     "output_type": "execute_result"
    }
   ],
   "source": [
    "mydataset={\n",
    "    \"cars\":[\"bmw\",\"volvo\",\"ford\",\"corolla\",\"civic\",\"kia\"],\n",
    "    \"passings\":[3,7,2,8,4,9],\n",
    "    \"colour\":[\"yellow\",\"red\",\"blue\",\"white\",\"black\",\"purple\"],\n",
    "   \n",
    "}\n",
    "\n",
    "myvar=pd.DataFrame(mydataset)\n",
    "myvar.tail()\n"
   ]
  },
  {
   "cell_type": "code",
   "execution_count": 18,
   "id": "ec5c88af-ec8a-4cdd-bf82-d63340ac85fe",
   "metadata": {},
   "outputs": [
    {
     "data": {
      "text/html": [
       "<div>\n",
       "<style scoped>\n",
       "    .dataframe tbody tr th:only-of-type {\n",
       "        vertical-align: middle;\n",
       "    }\n",
       "\n",
       "    .dataframe tbody tr th {\n",
       "        vertical-align: top;\n",
       "    }\n",
       "\n",
       "    .dataframe thead th {\n",
       "        text-align: right;\n",
       "    }\n",
       "</style>\n",
       "<table border=\"1\" class=\"dataframe\">\n",
       "  <thead>\n",
       "    <tr style=\"text-align: right;\">\n",
       "      <th></th>\n",
       "      <th>cars</th>\n",
       "      <th>passings</th>\n",
       "      <th>colour</th>\n",
       "    </tr>\n",
       "  </thead>\n",
       "  <tbody>\n",
       "    <tr>\n",
       "      <th>2</th>\n",
       "      <td>ford</td>\n",
       "      <td>2</td>\n",
       "      <td>blue</td>\n",
       "    </tr>\n",
       "    <tr>\n",
       "      <th>5</th>\n",
       "      <td>kia</td>\n",
       "      <td>9</td>\n",
       "      <td>purple</td>\n",
       "    </tr>\n",
       "    <tr>\n",
       "      <th>0</th>\n",
       "      <td>bmw</td>\n",
       "      <td>3</td>\n",
       "      <td>yellow</td>\n",
       "    </tr>\n",
       "  </tbody>\n",
       "</table>\n",
       "</div>"
      ],
      "text/plain": [
       "   cars  passings  colour\n",
       "2  ford         2    blue\n",
       "5   kia         9  purple\n",
       "0   bmw         3  yellow"
      ]
     },
     "execution_count": 18,
     "metadata": {},
     "output_type": "execute_result"
    }
   ],
   "source": [
    "mydataset={\n",
    "    \"cars\":[\"bmw\",\"volvo\",\"ford\",\"corolla\",\"civic\",\"kia\"],\n",
    "    \"passings\":[3,7,2,8,4,9],\n",
    "    \"colour\":[\"yellow\",\"red\",\"blue\",\"white\",\"black\",\"purple\"],\n",
    "   \n",
    "}\n",
    "\n",
    "myvar=pd.DataFrame(mydataset)\n",
    "myvar.sample(3)\n"
   ]
  },
  {
   "cell_type": "code",
   "execution_count": 20,
   "id": "3f3e098f-314c-4655-8d16-bab733fd8c30",
   "metadata": {},
   "outputs": [
    {
     "name": "stdout",
     "output_type": "stream",
     "text": [
      "(6, 3)\n"
     ]
    }
   ],
   "source": [
    "mydataset={\n",
    "    \"cars\":[\"bmw\",\"volvo\",\"ford\",\"corolla\",\"civic\",\"kia\"],\n",
    "    \"passings\":[3,7,2,8,4,9],\n",
    "    \"colour\":[\"yellow\",\"red\",\"blue\",\"white\",\"black\",\"purple\"],\n",
    "   \n",
    "}\n",
    "\n",
    "myvar=pd.DataFrame(mydataset)\n",
    "print(myvar.shape)\n"
   ]
  },
  {
   "cell_type": "code",
   "execution_count": 24,
   "id": "b733f5c5-0a98-43d5-bb85-d800c43ba410",
   "metadata": {},
   "outputs": [
    {
     "name": "stdout",
     "output_type": "stream",
     "text": [
      "<class 'pandas.core.frame.DataFrame'>\n",
      "RangeIndex: 6 entries, 0 to 5\n",
      "Data columns (total 3 columns):\n",
      " #   Column    Non-Null Count  Dtype \n",
      "---  ------    --------------  ----- \n",
      " 0   cars      6 non-null      object\n",
      " 1   passings  6 non-null      int64 \n",
      " 2   colour    6 non-null      object\n",
      "dtypes: int64(1), object(2)\n",
      "memory usage: 276.0+ bytes\n"
     ]
    }
   ],
   "source": [
    "mydataset={\n",
    "    \"cars\":[\"bmw\",\"volvo\",\"ford\",\"corolla\",\"civic\",\"kia\"],\n",
    "    \"passings\":[3,7,2,8,4,9],\n",
    "    \"colour\":[\"yellow\",\"red\",\"blue\",\"white\",\"black\",\"purple\"],\n",
    "   \n",
    "}\n",
    "\n",
    "myvar=pd.DataFrame(mydataset)\n",
    "myvar.info()\n"
   ]
  },
  {
   "cell_type": "code",
   "execution_count": 25,
   "id": "d66d67b7-c667-4656-ab81-6e8773777059",
   "metadata": {},
   "outputs": [
    {
     "data": {
      "text/html": [
       "<div>\n",
       "<style scoped>\n",
       "    .dataframe tbody tr th:only-of-type {\n",
       "        vertical-align: middle;\n",
       "    }\n",
       "\n",
       "    .dataframe tbody tr th {\n",
       "        vertical-align: top;\n",
       "    }\n",
       "\n",
       "    .dataframe thead th {\n",
       "        text-align: right;\n",
       "    }\n",
       "</style>\n",
       "<table border=\"1\" class=\"dataframe\">\n",
       "  <thead>\n",
       "    <tr style=\"text-align: right;\">\n",
       "      <th></th>\n",
       "      <th>passings</th>\n",
       "    </tr>\n",
       "  </thead>\n",
       "  <tbody>\n",
       "    <tr>\n",
       "      <th>count</th>\n",
       "      <td>6.000000</td>\n",
       "    </tr>\n",
       "    <tr>\n",
       "      <th>mean</th>\n",
       "      <td>5.500000</td>\n",
       "    </tr>\n",
       "    <tr>\n",
       "      <th>std</th>\n",
       "      <td>2.880972</td>\n",
       "    </tr>\n",
       "    <tr>\n",
       "      <th>min</th>\n",
       "      <td>2.000000</td>\n",
       "    </tr>\n",
       "    <tr>\n",
       "      <th>25%</th>\n",
       "      <td>3.250000</td>\n",
       "    </tr>\n",
       "    <tr>\n",
       "      <th>50%</th>\n",
       "      <td>5.500000</td>\n",
       "    </tr>\n",
       "    <tr>\n",
       "      <th>75%</th>\n",
       "      <td>7.750000</td>\n",
       "    </tr>\n",
       "    <tr>\n",
       "      <th>max</th>\n",
       "      <td>9.000000</td>\n",
       "    </tr>\n",
       "  </tbody>\n",
       "</table>\n",
       "</div>"
      ],
      "text/plain": [
       "       passings\n",
       "count  6.000000\n",
       "mean   5.500000\n",
       "std    2.880972\n",
       "min    2.000000\n",
       "25%    3.250000\n",
       "50%    5.500000\n",
       "75%    7.750000\n",
       "max    9.000000"
      ]
     },
     "execution_count": 25,
     "metadata": {},
     "output_type": "execute_result"
    }
   ],
   "source": [
    "mydataset={\n",
    "    \"cars\":[\"bmw\",\"volvo\",\"ford\",\"corolla\",\"civic\",\"kia\"],\n",
    "    \"passings\":[3,7,2,8,4,9],\n",
    "    \"colour\":[\"yellow\",\"red\",\"blue\",\"white\",\"black\",\"purple\"],\n",
    "   \n",
    "}\n",
    "\n",
    "myvar=pd.DataFrame(mydataset)\n",
    "myvar.describe()\n"
   ]
  },
  {
   "cell_type": "code",
   "execution_count": 2,
   "id": "1a91bbf5-8afd-49b5-acc0-e3303320481d",
   "metadata": {},
   "outputs": [],
   "source": [
    "import pandas as pd"
   ]
  },
  {
   "cell_type": "code",
   "execution_count": 3,
   "id": "1e7dec09-e931-405e-ba9e-5504459763fa",
   "metadata": {},
   "outputs": [
    {
     "data": {
      "text/plain": [
       "<module 'pandas' from 'C:\\\\Users\\\\Lab.4\\\\AppData\\\\Local\\\\Programs\\\\Python\\\\Python312\\\\Lib\\\\site-packages\\\\pandas\\\\__init__.py'>"
      ]
     },
     "execution_count": 3,
     "metadata": {},
     "output_type": "execute_result"
    }
   ],
   "source": [
    "\n",
    "mydataset={\n",
    "    \"cars\":[\"bmw\",\"volvo\",\"ford\",\"corolla\",\"civic\",\"kia\"],\n",
    "    \"passings\":[3,7,2,8,4,9],\n",
    "    \"colour\":[\"yellow\",\"red\",\"blue\",\"white\",\"black\",\"purple\"],\n",
    "   \n",
    "}\n",
    "\n",
    "myvar=pd.DataFrame(mydataset)\n",
    "pd\n"
   ]
  },
  {
   "cell_type": "markdown",
   "id": "c0351195-cc39-40f8-964f-6187d8108b8f",
   "metadata": {},
   "source": [
    "a=[1,5,8,3,6]\n",
    "var=pd.Series(a)"
   ]
  },
  {
   "cell_type": "code",
   "execution_count": null,
   "id": "77d4e3ff-3496-49c7-914f-5d9bf75329bc",
   "metadata": {},
   "outputs": [],
   "source": []
  }
 ],
 "metadata": {
  "kernelspec": {
   "display_name": "Python 3 (ipykernel)",
   "language": "python",
   "name": "python3"
  },
  "language_info": {
   "codemirror_mode": {
    "name": "ipython",
    "version": 3
   },
   "file_extension": ".py",
   "mimetype": "text/x-python",
   "name": "python",
   "nbconvert_exporter": "python",
   "pygments_lexer": "ipython3",
   "version": "3.12.2"
  }
 },
 "nbformat": 4,
 "nbformat_minor": 5
}
